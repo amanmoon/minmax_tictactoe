{
 "cells": [
  {
   "cell_type": "code",
   "execution_count": 19,
   "id": "68a5e9c9-42d8-4c00-a02f-a6368f6a1ced",
   "metadata": {},
   "outputs": [],
   "source": [
    "from tic_tac_toe import tic_tac_toe as t\n",
    "import numpy as np\n",
    "class node:\n",
    "    def __init__(self,state,player,parent=None):\n",
    "        self.value=0\n",
    "        self.child=list()\n",
    "        self.player=player \n",
    "        self.state=state\n",
    "        self.parent=parent\n",
    "        self.win=0\n",
    "        \n",
    "    def expand(self,computer_player):\n",
    "        if node.check_terminal(self,computer_player):\n",
    "            exit\n",
    "        valid_moves=t.valid_moves(self.state)\n",
    "        children=list()\n",
    "        for move in valid_moves:\n",
    "            child_state=t.state_modify(self.state.copy(),move,self.player)\n",
    "            children.append(node(child_state,-(self.player),self))\n",
    "        self.child=children\n",
    "        \n",
    "    def check_terminal(self,computer_player):\n",
    "        \n",
    "        for row in range(3):\n",
    "            if np.sum(self.state[row, :] == 3*computer_player):\n",
    "                self.value=computer_player\n",
    "                self.win=1\n",
    "                return True\n",
    "                \n",
    "        for col in range(3):\n",
    "            if np.sum(self.state[:, col] == 3*computer_player):\n",
    "                self.value=computer_player\n",
    "                self.win=1\n",
    "                return True\n",
    "\n",
    "        if np.trace(self.state) == computer_player * 3 or np.trace(np.fliplr(self.state)) == computer_player * 3:\n",
    "            self.value=computer_player\n",
    "            self.win=1\n",
    "            return True\n",
    "\n",
    "        if 0 not in self.state.reshape(-1):\n",
    "            return True\n",
    "        \n",
    "        for row in range(3):\n",
    "            if np.sum(self.state[row, :] == -3*computer_player):\n",
    "                self.value=-computer_player\n",
    "                return True\n",
    "                \n",
    "        for col in range(3):\n",
    "            if np.sum(self.state[:, col] == -3*computer_player):\n",
    "                self.value=-computer_player\n",
    "                return True\n",
    "\n",
    "        if np.trace(self.state) == self.player * -3 or np.trace(np.fliplr(self.state)) == computer_player * -3:\n",
    "            self.value=-computer_player\n",
    "            return True\n",
    "        \n",
    "        return False\n",
    "    \n",
    "    def __repr__(self):\n",
    "        return f\"{self.state}\"\n",
    "        \n",
    "\n",
    "    def calculate_win(self,computer_player):\n",
    "        for children in self.child:\n",
    "            if children.value==self.player:\n",
    "                self.value=self.player\n",
    "            if children.value==-self.player:\n",
    "                self.value=-self.player\n",
    "            if children.value==computer_player:\n",
    "                self.win+=1\n",
    "                \n",
    "    def sigma_move(self,game_state,computer_player):\n",
    "        for children in self.child:\n",
    "            if children.value==-computer_player:\n",
    "                self.child.remove(children)\n",
    "            \n",
    "        bestmove_list=self.child.sort(key=lambda node:(node.win),reverse=True)\n",
    "        bestmove=bestmove_list.pop(0)\n",
    "        game_state=bestmove\n",
    "        return game_state\n",
    "    \n",
    "    @staticmethod\n",
    "    def node_search(node,computer_player):\n",
    "        topo=[]    \n",
    "        visited=set()\n",
    "        def build_topo(v):\n",
    "            if v not in visited:\n",
    "                v.expand()\n",
    "                visited.add(v)\n",
    "                for child in v.child:\n",
    "                    build_topo(child)\n",
    "                topo.append(v)\n",
    "        build_topo(node)\n",
    "        return topo\n",
    "        for nodes in topo:\n",
    "            if nodes.check_terminal(computer_player):\n",
    "                continue\n",
    "            nodes.calculate_win(computer_player)\n",
    "    def get_layers_deepest_first(root,computer_player):\n",
    "        current_layer=[root]\n",
    "        next_layer=[]\n",
    "        deepest_first_list=list()\n",
    "        while True:\n",
    "            for childrens in current_layer:\n",
    "                childrens.expand()\n",
    "                next_layer.extend(childrens.child,computer_player)\n",
    "            deepest_first_list=next_layer+deepest_first_list\n",
    "            current_layer=next_layer.copy()\n",
    "            next_layer.clear()\n",
    "            if current_layer==[]:\n",
    "                break    \n",
    "        return deepest_first_list\n",
    "    def run_backprop(root,computer_player):\n",
    "        list=node.get_layers_deepest_first(root,computer_player)\n",
    "        for nodes in list:\n",
    "            if nodes.check_terminal(computer_player):\n",
    "                continue\n",
    "            nodes.calculate_win(computer_player)\n",
    "            \n",
    "def visualize_tree(node, depth=0):\n",
    "    indentation = \"  \" * depth\n",
    "    print(f\"{indentation}Value: {node.value}, Win: {node.win}\")\n",
    "    \n",
    "    for child in node.child:\n",
    "        visualize_tree(child, depth + 1)\n",
    "        "
   ]
  },
  {
   "cell_type": "code",
   "execution_count": 20,
   "id": "566bf150-9540-4024-8001-6e75fadad688",
   "metadata": {},
   "outputs": [
    {
     "ename": "TypeError",
     "evalue": "node.expand() missing 1 required positional argument: 'computer_player'",
     "output_type": "error",
     "traceback": [
      "\u001b[0;31m---------------------------------------------------------------------------\u001b[0m",
      "\u001b[0;31mTypeError\u001b[0m                                 Traceback (most recent call last)",
      "Cell \u001b[0;32mIn[20], line 4\u001b[0m\n\u001b[1;32m      2\u001b[0m state\u001b[38;5;241m=\u001b[39mgame\u001b[38;5;241m.\u001b[39minitialise_state()\n\u001b[1;32m      3\u001b[0m sta\u001b[38;5;241m=\u001b[39mnode(state,\u001b[38;5;241m1\u001b[39m)\n\u001b[0;32m----> 4\u001b[0m \u001b[38;5;28mprint\u001b[39m(\u001b[43mnode\u001b[49m\u001b[38;5;241;43m.\u001b[39;49m\u001b[43mrun_backprop\u001b[49m\u001b[43m(\u001b[49m\u001b[43msta\u001b[49m\u001b[43m,\u001b[49m\u001b[38;5;241;43m-\u001b[39;49m\u001b[38;5;241;43m1\u001b[39;49m\u001b[43m)\u001b[49m)\n",
      "Cell \u001b[0;32mIn[19], line 115\u001b[0m, in \u001b[0;36mnode.run_backprop\u001b[0;34m(root, computer_player)\u001b[0m\n\u001b[1;32m    114\u001b[0m \u001b[38;5;28;01mdef\u001b[39;00m \u001b[38;5;21mrun_backprop\u001b[39m(root,computer_player):\n\u001b[0;32m--> 115\u001b[0m     \u001b[38;5;28mlist\u001b[39m\u001b[38;5;241m=\u001b[39m\u001b[43mnode\u001b[49m\u001b[38;5;241;43m.\u001b[39;49m\u001b[43mget_layers_deepest_first\u001b[49m\u001b[43m(\u001b[49m\u001b[43mroot\u001b[49m\u001b[43m,\u001b[49m\u001b[43mcomputer_player\u001b[49m\u001b[43m)\u001b[49m\n\u001b[1;32m    116\u001b[0m     \u001b[38;5;28;01mfor\u001b[39;00m nodes \u001b[38;5;129;01min\u001b[39;00m \u001b[38;5;28mlist\u001b[39m:\n\u001b[1;32m    117\u001b[0m         \u001b[38;5;28;01mif\u001b[39;00m nodes\u001b[38;5;241m.\u001b[39mcheck_terminal(computer_player):\n",
      "Cell \u001b[0;32mIn[19], line 106\u001b[0m, in \u001b[0;36mnode.get_layers_deepest_first\u001b[0;34m(root, computer_player)\u001b[0m\n\u001b[1;32m    104\u001b[0m \u001b[38;5;28;01mwhile\u001b[39;00m \u001b[38;5;28;01mTrue\u001b[39;00m:\n\u001b[1;32m    105\u001b[0m     \u001b[38;5;28;01mfor\u001b[39;00m childrens \u001b[38;5;129;01min\u001b[39;00m current_layer:\n\u001b[0;32m--> 106\u001b[0m         \u001b[43mchildrens\u001b[49m\u001b[38;5;241;43m.\u001b[39;49m\u001b[43mexpand\u001b[49m\u001b[43m(\u001b[49m\u001b[43m)\u001b[49m\n\u001b[1;32m    107\u001b[0m         next_layer\u001b[38;5;241m.\u001b[39mextend(childrens\u001b[38;5;241m.\u001b[39mchild,computer_player)\n\u001b[1;32m    108\u001b[0m     deepest_first_list\u001b[38;5;241m=\u001b[39mnext_layer\u001b[38;5;241m+\u001b[39mdeepest_first_list\n",
      "\u001b[0;31mTypeError\u001b[0m: node.expand() missing 1 required positional argument: 'computer_player'"
     ]
    }
   ],
   "source": [
    "game=t()\n",
    "state=game.initialise_state()\n",
    "sta=node(state,1)\n",
    "print(node.run_backprop(sta,-1))"
   ]
  },
  {
   "cell_type": "code",
   "execution_count": 10,
   "id": "fc8a64fc-8327-4c5e-ad49-467d0cafd626",
   "metadata": {},
   "outputs": [
    {
     "data": {
      "text/plain": [
       "[[ 1.  0.  0.]\n",
       " [ 0.  0.  0.]\n",
       " [ 0.  0. -1.]]"
      ]
     },
     "execution_count": 10,
     "metadata": {},
     "output_type": "execute_result"
    }
   ],
   "source": [
    "sta.child[0].child[7]"
   ]
  },
  {
   "cell_type": "code",
   "execution_count": 18,
   "id": "572e7257-d407-4979-abe1-826153838ff7",
   "metadata": {},
   "outputs": [
    {
     "data": {
      "text/plain": [
       "[[[ 1. -1.  1.]\n",
       "  [-1.  1. -1.]\n",
       "  [ 1. -1.  0.]],\n",
       " [[ 1. -1.  1.]\n",
       "  [-1.  1. -1.]\n",
       "  [ 1.  0. -1.]]]"
      ]
     },
     "execution_count": 18,
     "metadata": {},
     "output_type": "execute_result"
    }
   ],
   "source": [
    "sta.child[0].child[0].child[0].child[0].child[0].child[0].child[0].child"
   ]
  }
 ],
 "metadata": {
  "kernelspec": {
   "display_name": "Python 3 (ipykernel)",
   "language": "python",
   "name": "python3"
  },
  "language_info": {
   "codemirror_mode": {
    "name": "ipython",
    "version": 3
   },
   "file_extension": ".py",
   "mimetype": "text/x-python",
   "name": "python",
   "nbconvert_exporter": "python",
   "pygments_lexer": "ipython3",
   "version": "3.11.4"
  }
 },
 "nbformat": 4,
 "nbformat_minor": 5
}
