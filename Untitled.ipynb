{
 "cells": [
  {
   "cell_type": "code",
   "execution_count": 128,
   "id": "68a5e9c9-42d8-4c00-a02f-a6368f6a1ced",
   "metadata": {},
   "outputs": [],
   "source": [
    "from tic_tac_toe import tic_tac_toe as t\n",
    "import numpy as np\n",
    "import random\n",
    "class node:\n",
    "    def __init__(self,state,player,depth=0,parent=None):\n",
    "        self.value=0\n",
    "        \n",
    "        self.child=list()\n",
    "        self.player=player \n",
    "        self.state=state\n",
    "        self.parent=parent\n",
    "        self.depth=depth\n",
    "        \n",
    "    def expand(self):\n",
    "        if self.check_terminal():      \n",
    "            return\n",
    "        valid_moves=t.valid_moves(self.state)\n",
    "        children=list()\n",
    "        for move in valid_moves:\n",
    "            child_state=t.state_modify(self.state.copy(),move,self.player)\n",
    "            children.append(node(child_state,-(self.player),self.depth+1,self))\n",
    "        self.child=children\n",
    "        \n",
    "    def check_terminal(self):\n",
    "        for row in range(3):\n",
    "            if np.all(self.state[row, :] == -(self.player)):\n",
    "                self.value = -self.player/self.depth\n",
    "                return True\n",
    "                    \n",
    "        for col in range(3):\n",
    "            if np.all(self.state[:, col] == -(self.player)):\n",
    "                self.value = -self.player/self.depth\n",
    "                return True\n",
    "    \n",
    "        if np.trace(self.state) == -(self.player * 3) or np.trace(np.fliplr(self.state)) == -(self.player * 3):\n",
    "            self.value = -self.player/self.depth\n",
    "            return True\n",
    "    \n",
    "        if 0 not in self.state.reshape(-1):\n",
    "            return True\n",
    "        return False\n",
    "    \n",
    "    def __repr__(self):\n",
    "        return f\"{self.state}\"          \n",
    "            \n",
    "    def sigma_move_max(self):\n",
    "        maxvalue=list()\n",
    "        for children in self.child:\n",
    "            maxvalue.append(children.value)\n",
    "        if all(i == maxvalue[0] for i in maxvalue):\n",
    "            return self.child[random.randrange(len(maxvalue))]\n",
    "        index_max=maxvalue.index(max(maxvalue))\n",
    "        return self.child[index_max]\n",
    "\n",
    "    def sigma_move_min(self):\n",
    "        minvalue=list()\n",
    "        for children in self.child:\n",
    "            minvalue.append(children.value)\n",
    "        if all(i == minvalue[0] for i in minvalue):\n",
    "            return self.child[random.randrange(len(minvalue))]\n",
    "        index_min=minvalue.index(min(minvalue))\n",
    "        return self.child[index_min]\n",
    "        \n",
    "    def noob_move(self,action):\n",
    "        row=action//3\n",
    "        col=action%3\n",
    "        self.state[row,col]=self.player\n",
    "        for children in self.child:\n",
    "            if (children.state == self.state).all():\n",
    "                print(children)\n",
    "                return children\n",
    "        \n",
    "    def calculate_win(self):\n",
    "        child_value=list()\n",
    "        for children in self.child:\n",
    "            child_value.append(children.value)\n",
    "            \n",
    "        if self.player==1:\n",
    "            self.value=max(child_value)            \n",
    "        if self.player==-1:\n",
    "            self.value=min(child_value)\n",
    "        \n",
    "    def get_layers_deepest_first(root):\n",
    "        current_layer=[root]\n",
    "        next_layer=[]\n",
    "        deepest_first_list=list()\n",
    "        \n",
    "        while True:\n",
    "            for childrens in current_layer:\n",
    "                childrens.expand()\n",
    "                next_layer.extend(childrens.child)\n",
    "            deepest_first_list=next_layer+deepest_first_list\n",
    "            current_layer=next_layer.copy()\n",
    "            next_layer.clear()\n",
    "            if current_layer==[]:\n",
    "                break\n",
    "        return deepest_first_list\n",
    "        \n",
    "    def run_backprop(root):\n",
    "        list=node.get_layers_deepest_first(root)\n",
    "        for nodes in list:\n",
    "            if nodes.check_terminal():\n",
    "                continue\n",
    "            nodes.calculate_win()\n",
    "            "
   ]
  },
  {
   "cell_type": "code",
   "execution_count": 139,
   "id": "196b4dc1-ecfc-40d6-a93d-ee681853f431",
   "metadata": {},
   "outputs": [
    {
     "name": "stdin",
     "output_type": "stream",
     "text": [
      "As what you wish to play: 1\n"
     ]
    }
   ],
   "source": [
    "game=t()\n",
    "state=game.initialise_state()\n",
    "human=int(input(\"As what you wish to play:\"))\n",
    "state=node(state,human)\n",
    "node.run_backprop(state)"
   ]
  },
  {
   "cell_type": "code",
   "execution_count": 149,
   "id": "b61bda31-d7a4-4751-98c2-8559db316b0e",
   "metadata": {},
   "outputs": [],
   "source": [
    "s=state"
   ]
  },
  {
   "cell_type": "code",
   "execution_count": 150,
   "id": "a8988143-7b70-4eda-b158-3fdf7d8c13b2",
   "metadata": {},
   "outputs": [],
   "source": [
    "state=s"
   ]
  },
  {
   "cell_type": "code",
   "execution_count": 151,
   "id": "39bec658-d42b-4580-baf0-e633b3c4dc68",
   "metadata": {},
   "outputs": [
    {
     "data": {
      "text/plain": [
       "[[ 1.  1. -1.]\n",
       " [-1. -1.  1.]\n",
       " [ 1. -1.  1.]]"
      ]
     },
     "execution_count": 151,
     "metadata": {},
     "output_type": "execute_result"
    }
   ],
   "source": [
    "state"
   ]
  },
  {
   "cell_type": "code",
   "execution_count": 144,
   "id": "a4073d4c-7914-46c0-af46-7b9cded85d91",
   "metadata": {},
   "outputs": [
    {
     "name": "stdout",
     "output_type": "stream",
     "text": [
      "[[ 1.  1. -1.]\n",
      " [-1. -1.  1.]\n",
      " [ 1. -1.  1.]]\n",
      "[]\n"
     ]
    },
    {
     "ename": "KeyboardInterrupt",
     "evalue": "Interrupted by user",
     "output_type": "error",
     "traceback": [
      "\u001b[0;31m---------------------------------------------------------------------------\u001b[0m",
      "\u001b[0;31mKeyboardInterrupt\u001b[0m                         Traceback (most recent call last)",
      "Cell \u001b[0;32mIn[144], line 4\u001b[0m\n\u001b[1;32m      2\u001b[0m \u001b[38;5;28mprint\u001b[39m(state)\n\u001b[1;32m      3\u001b[0m \u001b[38;5;28mprint\u001b[39m(t\u001b[38;5;241m.\u001b[39mvalid_moves(state\u001b[38;5;241m.\u001b[39mstate))\n\u001b[0;32m----> 4\u001b[0m move\u001b[38;5;241m=\u001b[39m\u001b[38;5;28mint\u001b[39m(\u001b[38;5;28;43minput\u001b[39;49m\u001b[43m(\u001b[49m\u001b[38;5;124;43m\"\u001b[39;49m\u001b[38;5;124;43mEnter a move:\u001b[39;49m\u001b[38;5;124;43m\"\u001b[39;49m\u001b[43m)\u001b[49m)\n\u001b[1;32m      5\u001b[0m \u001b[38;5;28;01mwhile\u001b[39;00m \u001b[38;5;28;01mTrue\u001b[39;00m:\n\u001b[1;32m      6\u001b[0m     \u001b[38;5;28;01mif\u001b[39;00m move \u001b[38;5;129;01mnot\u001b[39;00m \u001b[38;5;129;01min\u001b[39;00m t\u001b[38;5;241m.\u001b[39mvalid_moves(state\u001b[38;5;241m.\u001b[39mstate):\n",
      "File \u001b[0;32m~/.local/lib/python3.11/site-packages/ipykernel/kernelbase.py:1202\u001b[0m, in \u001b[0;36mKernel.raw_input\u001b[0;34m(self, prompt)\u001b[0m\n\u001b[1;32m   1200\u001b[0m     msg \u001b[38;5;241m=\u001b[39m \u001b[38;5;124m\"\u001b[39m\u001b[38;5;124mraw_input was called, but this frontend does not support input requests.\u001b[39m\u001b[38;5;124m\"\u001b[39m\n\u001b[1;32m   1201\u001b[0m     \u001b[38;5;28;01mraise\u001b[39;00m StdinNotImplementedError(msg)\n\u001b[0;32m-> 1202\u001b[0m \u001b[38;5;28;01mreturn\u001b[39;00m \u001b[38;5;28;43mself\u001b[39;49m\u001b[38;5;241;43m.\u001b[39;49m\u001b[43m_input_request\u001b[49m\u001b[43m(\u001b[49m\n\u001b[1;32m   1203\u001b[0m \u001b[43m    \u001b[49m\u001b[38;5;28;43mstr\u001b[39;49m\u001b[43m(\u001b[49m\u001b[43mprompt\u001b[49m\u001b[43m)\u001b[49m\u001b[43m,\u001b[49m\n\u001b[1;32m   1204\u001b[0m \u001b[43m    \u001b[49m\u001b[38;5;28;43mself\u001b[39;49m\u001b[38;5;241;43m.\u001b[39;49m\u001b[43m_parent_ident\u001b[49m\u001b[43m[\u001b[49m\u001b[38;5;124;43m\"\u001b[39;49m\u001b[38;5;124;43mshell\u001b[39;49m\u001b[38;5;124;43m\"\u001b[39;49m\u001b[43m]\u001b[49m\u001b[43m,\u001b[49m\n\u001b[1;32m   1205\u001b[0m \u001b[43m    \u001b[49m\u001b[38;5;28;43mself\u001b[39;49m\u001b[38;5;241;43m.\u001b[39;49m\u001b[43mget_parent\u001b[49m\u001b[43m(\u001b[49m\u001b[38;5;124;43m\"\u001b[39;49m\u001b[38;5;124;43mshell\u001b[39;49m\u001b[38;5;124;43m\"\u001b[39;49m\u001b[43m)\u001b[49m\u001b[43m,\u001b[49m\n\u001b[1;32m   1206\u001b[0m \u001b[43m    \u001b[49m\u001b[43mpassword\u001b[49m\u001b[38;5;241;43m=\u001b[39;49m\u001b[38;5;28;43;01mFalse\u001b[39;49;00m\u001b[43m,\u001b[49m\n\u001b[1;32m   1207\u001b[0m \u001b[43m\u001b[49m\u001b[43m)\u001b[49m\n",
      "File \u001b[0;32m~/.local/lib/python3.11/site-packages/ipykernel/kernelbase.py:1245\u001b[0m, in \u001b[0;36mKernel._input_request\u001b[0;34m(self, prompt, ident, parent, password)\u001b[0m\n\u001b[1;32m   1242\u001b[0m \u001b[38;5;28;01mexcept\u001b[39;00m \u001b[38;5;167;01mKeyboardInterrupt\u001b[39;00m:\n\u001b[1;32m   1243\u001b[0m     \u001b[38;5;66;03m# re-raise KeyboardInterrupt, to truncate traceback\u001b[39;00m\n\u001b[1;32m   1244\u001b[0m     msg \u001b[38;5;241m=\u001b[39m \u001b[38;5;124m\"\u001b[39m\u001b[38;5;124mInterrupted by user\u001b[39m\u001b[38;5;124m\"\u001b[39m\n\u001b[0;32m-> 1245\u001b[0m     \u001b[38;5;28;01mraise\u001b[39;00m \u001b[38;5;167;01mKeyboardInterrupt\u001b[39;00m(msg) \u001b[38;5;28;01mfrom\u001b[39;00m \u001b[38;5;28;01mNone\u001b[39;00m\n\u001b[1;32m   1246\u001b[0m \u001b[38;5;28;01mexcept\u001b[39;00m \u001b[38;5;167;01mException\u001b[39;00m:\n\u001b[1;32m   1247\u001b[0m     \u001b[38;5;28mself\u001b[39m\u001b[38;5;241m.\u001b[39mlog\u001b[38;5;241m.\u001b[39mwarning(\u001b[38;5;124m\"\u001b[39m\u001b[38;5;124mInvalid Message:\u001b[39m\u001b[38;5;124m\"\u001b[39m, exc_info\u001b[38;5;241m=\u001b[39m\u001b[38;5;28;01mTrue\u001b[39;00m)\n",
      "\u001b[0;31mKeyboardInterrupt\u001b[0m: Interrupted by user"
     ]
    }
   ],
   "source": [
    "while True:\n",
    "    print(state)\n",
    "    print(t.valid_moves(state.state))\n",
    "    move=int(input(\"Enter a move:\"))\n",
    "    while True:\n",
    "        if move not in t.valid_moves(state.state):\n",
    "            print(t.valid_moves(state.state))\n",
    "            move=int(input(\"Enter a valid move:\"))\n",
    "        else:\n",
    "            break\n",
    "    state=state.noob_move(move)\n",
    "    state=state.sigma_move_max() if human==-1 else state.sigma_move_min()\n",
    "    end,winner=t.check_terminal_state(state.state,move,state.player)\n",
    "    if end and winner==human:\n",
    "        print(\"You Won! Congatulations\")\n",
    "        break\n",
    "    if end and winner==-human:\n",
    "        print(\"you lost bitch.\")\n",
    "        break\n",
    "    if end and winner==0:\n",
    "        print(\"The game is tie.\")\n",
    "        break"
   ]
  },
  {
   "cell_type": "code",
   "execution_count": 48,
   "id": "12c40b3e-b49f-49a6-a407-cdd9f10c23d6",
   "metadata": {},
   "outputs": [
    {
     "ename": "AttributeError",
     "evalue": "'NoneType' object has no attribute 'state'",
     "output_type": "error",
     "traceback": [
      "\u001b[0;31m---------------------------------------------------------------------------\u001b[0m",
      "\u001b[0;31mAttributeError\u001b[0m                            Traceback (most recent call last)",
      "Cell \u001b[0;32mIn[48], line 1\u001b[0m\n\u001b[0;32m----> 1\u001b[0m \u001b[43mstate\u001b[49m\u001b[38;5;241;43m.\u001b[39;49m\u001b[43mstate\u001b[49m\n",
      "\u001b[0;31mAttributeError\u001b[0m: 'NoneType' object has no attribute 'state'"
     ]
    }
   ],
   "source": []
  }
 ],
 "metadata": {
  "kernelspec": {
   "display_name": "Python 3 (ipykernel)",
   "language": "python",
   "name": "python3"
  },
  "language_info": {
   "codemirror_mode": {
    "name": "ipython",
    "version": 3
   },
   "file_extension": ".py",
   "mimetype": "text/x-python",
   "name": "python",
   "nbconvert_exporter": "python",
   "pygments_lexer": "ipython3",
   "version": "3.11.4"
  }
 },
 "nbformat": 4,
 "nbformat_minor": 5
}
