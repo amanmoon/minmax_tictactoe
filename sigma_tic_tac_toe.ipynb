{
 "cells": [
  {
   "cell_type": "code",
   "execution_count": 1,
   "id": "68a5e9c9-42d8-4c00-a02f-a6368f6a1ced",
   "metadata": {},
   "outputs": [],
   "source": [
    "from tic_tac_toe import tic_tac_toe as t\n",
    "import numpy as np\n",
    "import random\n",
    "class node:\n",
    "    def __init__(self,state,player,depth=0,parent=None):\n",
    "        self.value=0\n",
    "        \n",
    "        self.child=list()\n",
    "        self.player=player \n",
    "        self.state=state\n",
    "        self.parent=parent\n",
    "        self.depth=depth\n",
    "        \n",
    "    def expand(self):\n",
    "        if self.check_terminal():      \n",
    "            return\n",
    "        valid_moves=t.valid_moves(self.state)\n",
    "        children=list()\n",
    "        for move in valid_moves:\n",
    "            child_state=t.state_modify(self.state.copy(),move,self.player)\n",
    "            children.append(node(child_state,-(self.player),self.depth+1,self))\n",
    "        self.child=children\n",
    "        \n",
    "    def check_terminal(self):\n",
    "        for row in range(3):\n",
    "            if np.all(self.state[row, :] == -(self.player)):\n",
    "                self.value = -self.player/self.depth\n",
    "                return True\n",
    "                    \n",
    "        for col in range(3):\n",
    "            if np.all(self.state[:, col] == -(self.player)):\n",
    "                self.value = -self.player/self.depth\n",
    "                return True\n",
    "    \n",
    "        if np.trace(self.state) == -(self.player * 3) or np.trace(np.fliplr(self.state)) == -(self.player * 3):\n",
    "            self.value = -self.player/self.depth\n",
    "            return True\n",
    "    \n",
    "        if 0 not in self.state.reshape(-1):\n",
    "            return True\n",
    "        return False\n",
    "    \n",
    "    def __repr__(self):\n",
    "        return f\"{self.state}\"          \n",
    "            \n",
    "    def sigma_move_max(self):\n",
    "        maxvalue=list()\n",
    "        for children in self.child:\n",
    "            maxvalue.append(children.value)\n",
    "        if all(i == maxvalue[0] for i in maxvalue):\n",
    "            return self.child[random.randrange(len(maxvalue))]\n",
    "        index_max=maxvalue.index(max(maxvalue))\n",
    "        return self.child[index_max]\n",
    "\n",
    "    def sigma_move_min(self):\n",
    "        minvalue=list()\n",
    "        for children in self.child:\n",
    "            minvalue.append(children.value)\n",
    "        if all(i == minvalue[0] for i in minvalue):\n",
    "            return self.child[random.randrange(len(minvalue))]\n",
    "        index_min=minvalue.index(min(minvalue))\n",
    "        return self.child[index_min]\n",
    "        \n",
    "    def noob_move(self,action):\n",
    "        row=action//3\n",
    "        col=action%3\n",
    "        self.state[row,col]=self.player\n",
    "        for children in self.child:\n",
    "            if (children.state == self.state).all():\n",
    "                print(children)\n",
    "                return children\n",
    "        \n",
    "    def calculate_win(self):\n",
    "        child_value=list()\n",
    "        for children in self.child:\n",
    "            child_value.append(children.value)\n",
    "        child_value.sort()\n",
    "        if self.player==1:\n",
    "            self.value=child_value.pop(-1)   \n",
    "            if child_value!=[]:\n",
    "                if child_value[-1]==self.value:\n",
    "                    self.value+=child_value.pop(-1)\n",
    "        if self.player==-1:\n",
    "            self.value=child_value.pop(0)\n",
    "            if child_value!=[]:\n",
    "                if child_value[0]==self.value:\n",
    "                    self.value+=child_value.pop(0)\n",
    "\n",
    "    def get_layers_deepest_first(root):\n",
    "        current_layer=[root]\n",
    "        next_layer=[]\n",
    "        deepest_first_list=list()\n",
    "        \n",
    "        while True:\n",
    "            for childrens in current_layer:\n",
    "                childrens.expand()\n",
    "                next_layer.extend(childrens.child)\n",
    "            deepest_first_list=next_layer+deepest_first_list\n",
    "            current_layer=next_layer.copy()\n",
    "            next_layer.clear()\n",
    "            if current_layer==[]:\n",
    "                break\n",
    "        return deepest_first_list\n",
    "        \n",
    "    def run_backprop(root):\n",
    "        root.depth=0\n",
    "        list=node.get_layers_deepest_first(root)\n",
    "        for nodes in list:\n",
    "            if nodes.check_terminal():\n",
    "                continue\n",
    "            nodes.calculate_win()"
   ]
  },
  {
   "cell_type": "markdown",
   "id": "e6d393ed-fbbe-44e0-8bf1-c9f8e99d23cb",
   "metadata": {},
   "source": [
    "Training and Initialization"
   ]
  },
  {
   "cell_type": "code",
   "execution_count": 3,
   "id": "db5383de-7705-478e-9c93-ecfb55231bab",
   "metadata": {},
   "outputs": [
    {
     "name": "stdin",
     "output_type": "stream",
     "text": [
      "As what you wish to play: 1\n"
     ]
    }
   ],
   "source": [
    "game=t()\n",
    "state=game.initialise_state()\n",
    "human=int(input(\"As what you wish to play:\"))\n",
    "state=node(state,human)\n",
    "node.run_backprop(state)"
   ]
  },
  {
   "cell_type": "markdown",
   "id": "2eb4020f-9963-4df7-b26c-95773e61ed86",
   "metadata": {},
   "source": [
    "List all Child elements with their values"
   ]
  },
  {
   "cell_type": "code",
   "execution_count": 24,
   "id": "fa7cb58c-a93a-4cfc-ae80-cdb4cec9d687",
   "metadata": {},
   "outputs": [
    {
     "name": "stdout",
     "output_type": "stream",
     "text": [
      "0 \n",
      " [[-1.  1.  1.]\n",
      " [ 1. -1. -1.]\n",
      " [-1.  1.  1.]]\n"
     ]
    }
   ],
   "source": [
    "for a in state.child:\n",
    "    print(a.value,\"\\n\",a.state)"
   ]
  },
  {
   "cell_type": "markdown",
   "id": "69dee8e2-b50e-4ae9-9f10-af43192efb30",
   "metadata": {},
   "source": [
    "AI playes the best move for the player"
   ]
  },
  {
   "cell_type": "code",
   "execution_count": 23,
   "id": "12c40b3e-b49f-49a6-a407-cdd9f10c23d6",
   "metadata": {},
   "outputs": [
    {
     "data": {
      "text/plain": [
       "[[-1.  1.  1.]\n",
       " [ 1. -1. -1.]\n",
       " [-1.  0.  1.]]"
      ]
     },
     "execution_count": 23,
     "metadata": {},
     "output_type": "execute_result"
    }
   ],
   "source": [
    "state=state.sigma_move_max() if state.player==1 else state.sigma_move_min()  \n",
    "state.run_backprop\n",
    "state"
   ]
  },
  {
   "cell_type": "markdown",
   "id": "31c2a5c7-e791-4f77-93d6-cc34519da56e",
   "metadata": {},
   "source": [
    "Player move"
   ]
  },
  {
   "cell_type": "code",
   "execution_count": 11,
   "id": "96089bc4-072c-470d-b2f3-d252f6c3e9f0",
   "metadata": {},
   "outputs": [
    {
     "name": "stdin",
     "output_type": "stream",
     "text": [
      "Enter a move: 4\n"
     ]
    },
    {
     "name": "stdout",
     "output_type": "stream",
     "text": [
      "[[ 0.  0.  0.]\n",
      " [ 0. -1.  0.]\n",
      " [ 0.  0.  1.]]\n"
     ]
    }
   ],
   "source": [
    "move=int(input(\"Enter a move:\"))\n",
    "state=state.noob_move(move)\n",
    "state.run_backprop()"
   ]
  }
 ],
 "metadata": {
  "kernelspec": {
   "display_name": "Python 3 (ipykernel)",
   "language": "python",
   "name": "python3"
  },
  "language_info": {
   "codemirror_mode": {
    "name": "ipython",
    "version": 3
   },
   "file_extension": ".py",
   "mimetype": "text/x-python",
   "name": "python",
   "nbconvert_exporter": "python",
   "pygments_lexer": "ipython3",
   "version": "3.11.4"
  }
 },
 "nbformat": 4,
 "nbformat_minor": 5
}
