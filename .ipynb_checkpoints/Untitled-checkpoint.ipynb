{
 "cells": [
  {
   "cell_type": "code",
   "execution_count": 456,
   "id": "68a5e9c9-42d8-4c00-a02f-a6368f6a1ced",
   "metadata": {},
   "outputs": [],
   "source": [
    "from tic_tac_toe import tic_tac_toe as t\n",
    "import numpy as np\n",
    "import random\n",
    "class node:\n",
    "    def __init__(self,state,player,depth=0,parent=None):\n",
    "        self.value=0\n",
    "        \n",
    "        self.child=list()\n",
    "        self.player=player \n",
    "        self.state=state\n",
    "        self.parent=parent\n",
    "        self.depth=depth\n",
    "        \n",
    "    def expand(self):\n",
    "        if self.check_terminal():      \n",
    "            return\n",
    "        valid_moves=t.valid_moves(self.state)\n",
    "        children=list()\n",
    "        for move in valid_moves:\n",
    "            child_state=t.state_modify(self.state.copy(),move,self.player)\n",
    "            children.append(node(child_state,-(self.player),self.depth+1,self))\n",
    "        self.child=children\n",
    "        \n",
    "    def check_terminal(self):\n",
    "        for row in range(3):\n",
    "            if np.all(self.state[row, :] == -(self.player)):\n",
    "                self.value = -self.player/self.depth\n",
    "                return True\n",
    "                    \n",
    "        for col in range(3):\n",
    "            if np.all(self.state[:, col] == -(self.player)):\n",
    "                self.value = -self.player/self.depth\n",
    "                return True\n",
    "    \n",
    "        if np.trace(self.state) == -(self.player * 3) or np.trace(np.fliplr(self.state)) == -(self.player * 3):\n",
    "            self.value = -self.player/self.depth\n",
    "            return True\n",
    "    \n",
    "        if 0 not in self.state.reshape(-1):\n",
    "            return True\n",
    "        return False\n",
    "    \n",
    "    def __repr__(self):\n",
    "        return f\"{self.state}\"          \n",
    "            \n",
    "    def sigma_move_max(self):\n",
    "        maxvalue=list()\n",
    "        for children in self.child:\n",
    "            maxvalue.append(children.value)\n",
    "        if all(i == maxvalue[0] for i in maxvalue):\n",
    "            return self.child[random.randrange(len(maxvalue))]\n",
    "        print(maxvalue)\n",
    "        index_max=maxvalue.index(max(maxvalue))\n",
    "        print(index_max)\n",
    "        return self.child[index_max]\n",
    "\n",
    "    def sigma_move_min(self):\n",
    "        minvalue=list()\n",
    "        for children in self.child:\n",
    "            minvalue.append(children.value)\n",
    "        if all(i == minvalue[0] for i in minvalue):\n",
    "            return self.child[random.randrange(len(minvalue))]\n",
    "        print(minvalue)\n",
    "        index_min=minvalue.index(min(minvalue))\n",
    "        print(index_min)\n",
    "        return self.child[index_min]\n",
    "        \n",
    "    def noob_move(self,action):\n",
    "        pass\n",
    "    def calculate_win(self):\n",
    "        child_value=list()\n",
    "        for children in self.child:\n",
    "            child_value.append(children.value)\n",
    "            \n",
    "        if self.player==1:\n",
    "            self.value=max(child_value)            \n",
    "        if self.player==-1:\n",
    "            self.value=min(child_value)\n",
    "        \n",
    "    def get_layers_deepest_first(root,computer_player):\n",
    "        current_layer=[root]\n",
    "        next_layer=[]\n",
    "        deepest_first_list=list()\n",
    "        \n",
    "        while True:\n",
    "            for childrens in current_layer:\n",
    "                childrens.expand()\n",
    "                next_layer.extend(childrens.child)\n",
    "            deepest_first_list=next_layer+deepest_first_list\n",
    "            current_layer=next_layer.copy()\n",
    "            next_layer.clear()\n",
    "            if current_layer==[]:\n",
    "                break\n",
    "        return deepest_first_list\n",
    "        \n",
    "    def run_backprop(root,computer_player):\n",
    "        list=node.get_layers_deepest_first(root,computer_player)\n",
    "        for nodes in list:\n",
    "            if nodes.check_terminal():\n",
    "                continue\n",
    "            nodes.calculate_win()\n",
    "            "
   ]
  },
  {
   "cell_type": "code",
   "execution_count": 480,
   "id": "db15846c-7211-4239-9e50-e84d7575d007",
   "metadata": {},
   "outputs": [],
   "source": [
    "game=t()\n",
    "state=game.initialise_state()\n",
    "status=node(state,1)\n",
    "node.run_backprop(status,-1)"
   ]
  },
  {
   "cell_type": "code",
   "execution_count": 451,
   "id": "a4073d4c-7914-46c0-af46-7b9cded85d91",
   "metadata": {},
   "outputs": [
    {
     "data": {
      "text/plain": [
       "-0.16666666666666666"
      ]
     },
     "execution_count": 451,
     "metadata": {},
     "output_type": "execute_result"
    }
   ],
   "source": [
    "status.child[0].child[3].child[1].child[4].child[1].value"
   ]
  },
  {
   "cell_type": "code",
   "execution_count": 452,
   "id": "1940d2c7-afff-45fa-a3ca-3e33dfb073d6",
   "metadata": {},
   "outputs": [],
   "source": [
    "s=status"
   ]
  },
  {
   "cell_type": "code",
   "execution_count": 493,
   "id": "38f09133-1a68-4f75-9cce-9f8fc3ea6dd1",
   "metadata": {},
   "outputs": [
    {
     "data": {
      "text/plain": [
       "[[-1. -1.  1.]\n",
       " [ 0.  0.  1.]\n",
       " [ 0.  0.  1.]]"
      ]
     },
     "execution_count": 493,
     "metadata": {},
     "output_type": "execute_result"
    }
   ],
   "source": [
    "status"
   ]
  },
  {
   "cell_type": "code",
   "execution_count": 492,
   "id": "c04b35ea-dfe1-4970-be29-b57b3f959d92",
   "metadata": {},
   "outputs": [
    {
     "ename": "ValueError",
     "evalue": "empty range for randrange()",
     "output_type": "error",
     "traceback": [
      "\u001b[0;31m---------------------------------------------------------------------------\u001b[0m",
      "\u001b[0;31mValueError\u001b[0m                                Traceback (most recent call last)",
      "Cell \u001b[0;32mIn[492], line 1\u001b[0m\n\u001b[0;32m----> 1\u001b[0m status\u001b[38;5;241m=\u001b[39m\u001b[43mstatus\u001b[49m\u001b[38;5;241;43m.\u001b[39;49m\u001b[43msigma_move_max\u001b[49m\u001b[43m(\u001b[49m\u001b[43m)\u001b[49m\n",
      "Cell \u001b[0;32mIn[456], line 51\u001b[0m, in \u001b[0;36mnode.sigma_move_max\u001b[0;34m(self)\u001b[0m\n\u001b[1;32m     49\u001b[0m     maxvalue\u001b[38;5;241m.\u001b[39mappend(children\u001b[38;5;241m.\u001b[39mvalue)\n\u001b[1;32m     50\u001b[0m \u001b[38;5;28;01mif\u001b[39;00m \u001b[38;5;28mall\u001b[39m(i \u001b[38;5;241m==\u001b[39m maxvalue[\u001b[38;5;241m0\u001b[39m] \u001b[38;5;28;01mfor\u001b[39;00m i \u001b[38;5;129;01min\u001b[39;00m maxvalue):\n\u001b[0;32m---> 51\u001b[0m     \u001b[38;5;28;01mreturn\u001b[39;00m \u001b[38;5;28mself\u001b[39m\u001b[38;5;241m.\u001b[39mchild[\u001b[43mrandom\u001b[49m\u001b[38;5;241;43m.\u001b[39;49m\u001b[43mrandrange\u001b[49m\u001b[43m(\u001b[49m\u001b[38;5;28;43mlen\u001b[39;49m\u001b[43m(\u001b[49m\u001b[43mmaxvalue\u001b[49m\u001b[43m)\u001b[49m\u001b[43m)\u001b[49m]\n\u001b[1;32m     52\u001b[0m \u001b[38;5;28mprint\u001b[39m(maxvalue)\n\u001b[1;32m     53\u001b[0m index_max\u001b[38;5;241m=\u001b[39mmaxvalue\u001b[38;5;241m.\u001b[39mindex(\u001b[38;5;28mmax\u001b[39m(maxvalue))\n",
      "File \u001b[0;32m/usr/lib64/python3.11/random.py:313\u001b[0m, in \u001b[0;36mRandom.randrange\u001b[0;34m(self, start, stop, step)\u001b[0m\n\u001b[1;32m    311\u001b[0m     \u001b[38;5;28;01mif\u001b[39;00m istart \u001b[38;5;241m>\u001b[39m \u001b[38;5;241m0\u001b[39m:\n\u001b[1;32m    312\u001b[0m         \u001b[38;5;28;01mreturn\u001b[39;00m \u001b[38;5;28mself\u001b[39m\u001b[38;5;241m.\u001b[39m_randbelow(istart)\n\u001b[0;32m--> 313\u001b[0m     \u001b[38;5;28;01mraise\u001b[39;00m \u001b[38;5;167;01mValueError\u001b[39;00m(\u001b[38;5;124m\"\u001b[39m\u001b[38;5;124mempty range for randrange()\u001b[39m\u001b[38;5;124m\"\u001b[39m)\n\u001b[1;32m    315\u001b[0m \u001b[38;5;66;03m# stop argument supplied.\u001b[39;00m\n\u001b[1;32m    316\u001b[0m \u001b[38;5;28;01mtry\u001b[39;00m:\n",
      "\u001b[0;31mValueError\u001b[0m: empty range for randrange()"
     ]
    }
   ],
   "source": [
    "status=status.sigma_move_max()"
   ]
  },
  {
   "cell_type": "code",
   "execution_count": 494,
   "id": "2219f8da-1c66-4967-84b9-f5a9f29c8746",
   "metadata": {},
   "outputs": [
    {
     "ename": "ValueError",
     "evalue": "empty range for randrange()",
     "output_type": "error",
     "traceback": [
      "\u001b[0;31m---------------------------------------------------------------------------\u001b[0m",
      "\u001b[0;31mValueError\u001b[0m                                Traceback (most recent call last)",
      "Cell \u001b[0;32mIn[494], line 1\u001b[0m\n\u001b[0;32m----> 1\u001b[0m status\u001b[38;5;241m=\u001b[39m\u001b[43mstatus\u001b[49m\u001b[38;5;241;43m.\u001b[39;49m\u001b[43msigma_move_min\u001b[49m\u001b[43m(\u001b[49m\u001b[43m)\u001b[49m\n",
      "Cell \u001b[0;32mIn[456], line 62\u001b[0m, in \u001b[0;36mnode.sigma_move_min\u001b[0;34m(self)\u001b[0m\n\u001b[1;32m     60\u001b[0m     minvalue\u001b[38;5;241m.\u001b[39mappend(children\u001b[38;5;241m.\u001b[39mvalue)\n\u001b[1;32m     61\u001b[0m \u001b[38;5;28;01mif\u001b[39;00m \u001b[38;5;28mall\u001b[39m(i \u001b[38;5;241m==\u001b[39m minvalue[\u001b[38;5;241m0\u001b[39m] \u001b[38;5;28;01mfor\u001b[39;00m i \u001b[38;5;129;01min\u001b[39;00m minvalue):\n\u001b[0;32m---> 62\u001b[0m     \u001b[38;5;28;01mreturn\u001b[39;00m \u001b[38;5;28mself\u001b[39m\u001b[38;5;241m.\u001b[39mchild[\u001b[43mrandom\u001b[49m\u001b[38;5;241;43m.\u001b[39;49m\u001b[43mrandrange\u001b[49m\u001b[43m(\u001b[49m\u001b[38;5;28;43mlen\u001b[39;49m\u001b[43m(\u001b[49m\u001b[43mminvalue\u001b[49m\u001b[43m)\u001b[49m\u001b[43m)\u001b[49m]\n\u001b[1;32m     63\u001b[0m \u001b[38;5;28mprint\u001b[39m(minvalue)\n\u001b[1;32m     64\u001b[0m index_min\u001b[38;5;241m=\u001b[39mminvalue\u001b[38;5;241m.\u001b[39mindex(\u001b[38;5;28mmin\u001b[39m(minvalue))\n",
      "File \u001b[0;32m/usr/lib64/python3.11/random.py:313\u001b[0m, in \u001b[0;36mRandom.randrange\u001b[0;34m(self, start, stop, step)\u001b[0m\n\u001b[1;32m    311\u001b[0m     \u001b[38;5;28;01mif\u001b[39;00m istart \u001b[38;5;241m>\u001b[39m \u001b[38;5;241m0\u001b[39m:\n\u001b[1;32m    312\u001b[0m         \u001b[38;5;28;01mreturn\u001b[39;00m \u001b[38;5;28mself\u001b[39m\u001b[38;5;241m.\u001b[39m_randbelow(istart)\n\u001b[0;32m--> 313\u001b[0m     \u001b[38;5;28;01mraise\u001b[39;00m \u001b[38;5;167;01mValueError\u001b[39;00m(\u001b[38;5;124m\"\u001b[39m\u001b[38;5;124mempty range for randrange()\u001b[39m\u001b[38;5;124m\"\u001b[39m)\n\u001b[1;32m    315\u001b[0m \u001b[38;5;66;03m# stop argument supplied.\u001b[39;00m\n\u001b[1;32m    316\u001b[0m \u001b[38;5;28;01mtry\u001b[39;00m:\n",
      "\u001b[0;31mValueError\u001b[0m: empty range for randrange()"
     ]
    }
   ],
   "source": [
    "status=status.sigma_move_min()"
   ]
  }
 ],
 "metadata": {
  "kernelspec": {
   "display_name": "Python 3 (ipykernel)",
   "language": "python",
   "name": "python3"
  },
  "language_info": {
   "codemirror_mode": {
    "name": "ipython",
    "version": 3
   },
   "file_extension": ".py",
   "mimetype": "text/x-python",
   "name": "python",
   "nbconvert_exporter": "python",
   "pygments_lexer": "ipython3",
   "version": "3.11.4"
  }
 },
 "nbformat": 4,
 "nbformat_minor": 5
}
