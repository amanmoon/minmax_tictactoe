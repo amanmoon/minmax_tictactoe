{
 "cells": [
  {
   "cell_type": "code",
   "execution_count": 449,
   "id": "68a5e9c9-42d8-4c00-a02f-a6368f6a1ced",
   "metadata": {},
   "outputs": [],
   "source": [
    "from tic_tac_toe import tic_tac_toe as t\n",
    "import numpy as np\n",
    "import random\n",
    "class node:\n",
    "    def __init__(self,state,player,depth=0,parent=None):\n",
    "        self.value=0\n",
    "        \n",
    "        self.child=list()\n",
    "        self.player=player \n",
    "        self.state=state\n",
    "        self.parent=parent\n",
    "        self.depth=depth\n",
    "        \n",
    "    def expand(self):\n",
    "        if self.check_terminal():      \n",
    "            return\n",
    "        valid_moves=t.valid_moves(self.state)\n",
    "        children=list()\n",
    "        for move in valid_moves:\n",
    "            child_state=t.state_modify(self.state.copy(),move,self.player)\n",
    "            children.append(node(child_state,-(self.player),self.depth+1,self))\n",
    "        self.child=children\n",
    "        \n",
    "    def check_terminal(self):\n",
    "        for row in range(3):\n",
    "            if np.all(self.state[row, :] == -(self.player)):\n",
    "                self.value = -self.player/self.depth\n",
    "                return True\n",
    "                    \n",
    "        for col in range(3):\n",
    "            if np.all(self.state[:, col] == -(self.player)):\n",
    "                self.value = -self.player/self.depth\n",
    "                return True\n",
    "    \n",
    "        if np.trace(self.state) == -(self.player * 3) or np.trace(np.fliplr(self.state)) == -(self.player * 3):\n",
    "            self.value = -self.player/self.depth\n",
    "            return True\n",
    "    \n",
    "        if 0 not in self.state.reshape(-1):\n",
    "            return True\n",
    "        return False\n",
    "    \n",
    "    def __repr__(self):\n",
    "        return f\"{self.state}\"          \n",
    "            \n",
    "    def sigma_move_max(self):\n",
    "        maxvalue=list()\n",
    "        for children in self.child:\n",
    "            maxvalue.append(children.value)\n",
    "        if all(i == maxvalue[0] for i in maxvalue):\n",
    "            return self.child[random.randrange(len(maxvalue))]\n",
    "        print(maxvalue)\n",
    "        index_max=maxvalue.index(max(maxvalue))\n",
    "        print(index_max)\n",
    "        return self.child[index_max]\n",
    "\n",
    "    def sigma_move_min(self):\n",
    "        minvalue=list()\n",
    "        for children in self.child:\n",
    "            minvalue.append(children.value)\n",
    "        if all(i == minvalue[0] for i in minvalue):\n",
    "            return self.child[random.randrange(len(minvalue))]\n",
    "        print(minvalue)\n",
    "        index_min=minvalue.index(min(minvalue))\n",
    "        print(index_min)\n",
    "        return self.child[index_min]\n",
    "        \n",
    "    def noob_move(self,action):\n",
    "        pass\n",
    "    def calculate_win(self):\n",
    "        child_value=list()\n",
    "        for children in self.child:\n",
    "            child_value.append(children.value)\n",
    "            \n",
    "        if self.player==1:\n",
    "            self.value=max(child_value)            \n",
    "        if self.player==-1:\n",
    "            self.value=min(child_value)\n",
    "        \n",
    "    def get_layers_deepest_first(root,computer_player):\n",
    "        current_layer=[root]\n",
    "        next_layer=[]\n",
    "        deepest_first_list=list()\n",
    "        \n",
    "        while True:\n",
    "            for childrens in current_layer:\n",
    "                childrens.expand()\n",
    "                next_layer.extend(childrens.child)\n",
    "            deepest_first_list=next_layer+deepest_first_list\n",
    "            current_layer=next_layer.copy()\n",
    "            next_layer.clear()\n",
    "            if current_layer==[]:\n",
    "                break\n",
    "        return deepest_first_list\n",
    "        \n",
    "    def run_backprop(root,computer_player):\n",
    "        list=node.get_layers_deepest_first(root,computer_player)\n",
    "        for nodes in list:\n",
    "            if nodes.check_terminal():\n",
    "                continue\n",
    "            nodes.calculate_win()\n",
    "            "
   ]
  },
  {
   "cell_type": "code",
   "execution_count": null,
   "id": "db15846c-7211-4239-9e50-e84d7575d007",
   "metadata": {},
   "outputs": [],
   "source": [
    "game=t()\n",
    "state=game.initialise_state()\n",
    "status=node(state,1)\n",
    "node.run_backprop(status,-1)"
   ]
  },
  {
   "cell_type": "code",
   "execution_count": null,
   "id": "a4073d4c-7914-46c0-af46-7b9cded85d91",
   "metadata": {},
   "outputs": [],
   "source": [
    "status.child[0].child[3].child[1].child[4].child[1].value"
   ]
  },
  {
   "cell_type": "code",
   "execution_count": null,
   "id": "1940d2c7-afff-45fa-a3ca-3e33dfb073d6",
   "metadata": {},
   "outputs": [],
   "source": [
    "s=status"
   ]
  },
  {
   "cell_type": "code",
   "execution_count": null,
   "id": "38f09133-1a68-4f75-9cce-9f8fc3ea6dd1",
   "metadata": {},
   "outputs": [],
   "source": [
    "status"
   ]
  },
  {
   "cell_type": "code",
   "execution_count": null,
   "id": "c04b35ea-dfe1-4970-be29-b57b3f959d92",
   "metadata": {},
   "outputs": [],
   "source": [
    "status=status.sigma_move_max()"
   ]
  },
  {
   "cell_type": "code",
   "execution_count": null,
   "id": "2219f8da-1c66-4967-84b9-f5a9f29c8746",
   "metadata": {},
   "outputs": [],
   "source": [
    "status=status.sigma_move_min()"
   ]
  },
  {
   "cell_type": "code",
   "execution_count": null,
   "id": "c8985470-540c-447d-bcc5-3d448cd22d75",
   "metadata": {},
   "outputs": [],
   "source": [
    "print(status)\n",
    "print(t.valid_moves(status.state))\n",
    "action=int(input(\"enter a move from the valid moves:\"))\n",
    "status.noob_move(action,you)\n",
    "while True:\n",
    "    print(status)\n",
    "    action=int(input(\"enter a move from the valid moves:\"))\n",
    "    if action not in t.valid_moves(status.state):\n",
    "        print(\"Please enter valid move:\")\n",
    "        continue\n",
    "    status.noob_move(action,you)\n",
    "    status=status.sigma_move(computer_player)\n",
    "    print(status)\n",
    "    if status.check_terminal(computer_player):\n",
    "        print(\"The Game has ended!\")\n",
    "    \n",
    "\n",
    "    "
   ]
  },
  {
   "cell_type": "code",
   "execution_count": null,
   "id": "fc8a64fc-8327-4c5e-ad49-467d0cafd626",
   "metadata": {},
   "outputs": [],
   "source": [
    "for x in sta.child[0].child[3].child[1].child:\n",
    "    print(x.win,x.value,x.player,\"\\n\",x)"
   ]
  },
  {
   "cell_type": "code",
   "execution_count": null,
   "id": "572e7257-d407-4979-abe1-826153838ff7",
   "metadata": {},
   "outputs": [],
   "source": [
    "s=sta.child[0].child[0].child[0].child[0].child[1].child[0].child[2].child\n",
    "s"
   ]
  }
 ],
 "metadata": {
  "kernelspec": {
   "display_name": "Python 3 (ipykernel)",
   "language": "python",
   "name": "python3"
  },
  "language_info": {
   "codemirror_mode": {
    "name": "ipython",
    "version": 3
   },
   "file_extension": ".py",
   "mimetype": "text/x-python",
   "name": "python",
   "nbconvert_exporter": "python",
   "pygments_lexer": "ipython3",
   "version": "3.11.4"
  }
 },
 "nbformat": 4,
 "nbformat_minor": 5
}
